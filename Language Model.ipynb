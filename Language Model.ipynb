{
 "cells": [
  {
   "cell_type": "code",
   "execution_count": null,
   "metadata": {
    "collapsed": false
   },
   "outputs": [],
   "source": [
    "from keras.models import Sequential\n",
    "from keras.layers.core import Dense, Dropout, Activation\n",
    "from keras.layers.embeddings import Embedding\n",
    "from keras.layers.recurrent import LSTM\n",
    "from keras.layers.recurrent import SimpleRNN\n",
    "from keras.layers.core import TimeDistributedDense\n",
    "from keras.datasets import imdb\n",
    "import numpy as np\n",
    "from keras.preprocessing import sequence"
   ]
  },
  {
   "cell_type": "markdown",
   "metadata": {},
   "source": [
    "# experiment with a RNN language model for IMDB reviews"
   ]
  },
  {
   "cell_type": "code",
   "execution_count": null,
   "metadata": {
    "collapsed": true
   },
   "outputs": [],
   "source": [
    "nb_words = 5000\n",
    "max_len = 100\n",
    "batch_size = 32"
   ]
  },
  {
   "cell_type": "code",
   "execution_count": null,
   "metadata": {
    "collapsed": true
   },
   "outputs": [],
   "source": [
    "(str_train, y_train), (str_test, y_test) = imdb.load_data(nb_words=nb_words, test_split=0.2)"
   ]
  },
  {
   "cell_type": "code",
   "execution_count": null,
   "metadata": {
    "collapsed": false
   },
   "outputs": [],
   "source": [
    "print(len(str_train), 'train sequences')\n",
    "print(len(str_test), 'test sequences')"
   ]
  },
  {
   "cell_type": "code",
   "execution_count": null,
   "metadata": {
    "collapsed": false
   },
   "outputs": [],
   "source": [
    "str_train = sequence.pad_sequences(str_train, maxlen=max_len)\n",
    "str_test = sequence.pad_sequences(str_test, maxlen=max_len)"
   ]
  },
  {
   "cell_type": "code",
   "execution_count": null,
   "metadata": {
    "collapsed": false
   },
   "outputs": [],
   "source": [
    "X_train = [s[0:max_len-1] for s in str_train]\n",
    "X_test  = [s[0:max_len-1] for s in str_test]\n",
    "y_train = [s[1:max_len] for s in str_train]\n",
    "y_test  = [s[1:max_len] for s in str_test]"
   ]
  },
  {
   "cell_type": "code",
   "execution_count": null,
   "metadata": {
    "collapsed": false
   },
   "outputs": [],
   "source": [
    "# convert training data to ndarray\n",
    "X_train = sequence.pad_sequences(X_train, maxlen=max_len-1)\n",
    "X_test = sequence.pad_sequences(X_test, maxlen=max_len-1)"
   ]
  },
  {
   "cell_type": "code",
   "execution_count": null,
   "metadata": {
    "collapsed": false
   },
   "outputs": [],
   "source": [
    "# convert the testing data to one hot \n",
    "def index2onehot(idx_mat, nb_words, max_len):\n",
    "    result = np.zeros((len(idx_mat), max_len-1, nb_words))\n",
    "    print result.shape\n",
    "    for idx, row in enumerate(idx_mat):\n",
    "        nd_row = np.array(row)\n",
    "        temp = np.zeros((len(row), nb_words))\n",
    "        temp[np.arange(len(row)), nd_row] = 1\n",
    "        result[idx, :, : ] = temp\n",
    "        "
   ]
  },
  {
   "cell_type": "code",
   "execution_count": null,
   "metadata": {
    "collapsed": false
   },
   "outputs": [],
   "source": [
    "y_train = index2onehot(y_train, nb_words, max_len)\n",
    "y_test = index2onehot(y_test, nb_words, max_len)"
   ]
  },
  {
   "cell_type": "markdown",
   "metadata": {},
   "source": []
  }
 ],
 "metadata": {
  "kernelspec": {
   "display_name": "Python 2",
   "language": "python",
   "name": "python2"
  },
  "language_info": {
   "codemirror_mode": {
    "name": "ipython",
    "version": 2
   },
   "file_extension": ".py",
   "mimetype": "text/x-python",
   "name": "python",
   "nbconvert_exporter": "python",
   "pygments_lexer": "ipython2",
   "version": "2.7.11"
  }
 },
 "nbformat": 4,
 "nbformat_minor": 0
}
